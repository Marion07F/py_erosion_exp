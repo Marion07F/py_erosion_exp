{
 "cells": [
  {
   "cell_type": "code",
   "execution_count": 1,
   "id": "cbf9eca5",
   "metadata": {},
   "outputs": [],
   "source": [
    "import glob, os, re\n",
    "from pathlib import Path\n",
    "import matplotlib.pyplot as plt\n",
    "import numpy as np\n",
    "import pandas as pd\n",
    "import seaborn as sns"
   ]
  },
  {
   "cell_type": "markdown",
   "id": "8870d963",
   "metadata": {},
   "source": [
    "Directions des fichiers de données "
   ]
  },
  {
   "cell_type": "code",
   "execution_count": 2,
   "id": "41a4d17e",
   "metadata": {},
   "outputs": [],
   "source": [
    "dirGlobal = \"C:/Users/Benjamin/Desktop/Traitement_Cloud_Compare\"\n",
    "dir_ = \"C:/Users/Benjamin/Desktop/Traitement_Cloud_Compare/PROCESSINGerosion+\""
   ]
  },
  {
   "cell_type": "markdown",
   "id": "d0e699ef",
   "metadata": {},
   "source": [
    "Import des données \n",
    " - Données érosion topographique (M3C2)\n",
    " - Données de Temps *Liste de valeurs allant de -0- à -\"Lengh(M3C2)\"- par -pas de 2- (verrifier manips avec passage à 4 min)* \n"
   ]
  },
  {
   "cell_type": "code",
   "execution_count": 39,
   "id": "8b4c7568",
   "metadata": {},
   "outputs": [
    {
     "name": "stdout",
     "output_type": "stream",
     "text": [
      "['C:/Users/Benjamin/Desktop/Traitement_Cloud_Compare/PROCESSINGerosion+\\\\AZ9027-2021\\\\AZ9027-2021_0_M3C2inc_all.txt', 'C:/Users/Benjamin/Desktop/Traitement_Cloud_Compare/PROCESSINGerosion+\\\\AZ9045A-2021\\\\AZ9045A-2021_0_M3C2inc_all.txt', 'C:/Users/Benjamin/Desktop/Traitement_Cloud_Compare/PROCESSINGerosion+\\\\AZ9045B-2021\\\\AZ9045B-2021_0_M3C2inc_all.txt', 'C:/Users/Benjamin/Desktop/Traitement_Cloud_Compare/PROCESSINGerosion+\\\\DIP4545\\\\DIP4545_00_M3C2inc_all.txt', 'C:/Users/Benjamin/Desktop/Traitement_Cloud_Compare/PROCESSINGerosion+\\\\DIP4545-2022\\\\DIP4545-2022_0_M3C2inc_all.txt', 'C:/Users/Benjamin/Desktop/Traitement_Cloud_Compare/PROCESSINGerosion+\\\\DIP4567\\\\DIP4567_00_M3C2inc_all.txt', 'C:/Users/Benjamin/Desktop/Traitement_Cloud_Compare/PROCESSINGerosion+\\\\DIP6767\\\\DIP6767_00_M3C2inc_all.txt', 'C:/Users/Benjamin/Desktop/Traitement_Cloud_Compare/PROCESSINGerosion+\\\\DIP67672\\\\DIP67672_00_M3C2inc_all.txt', 'C:/Users/Benjamin/Desktop/Traitement_Cloud_Compare/PROCESSINGerosion+\\\\DIP67673\\\\DIP67673_00_M3C2inc_all.txt', 'C:/Users/Benjamin/Desktop/Traitement_Cloud_Compare/PROCESSINGerosion+\\\\DIP9067\\\\DIP9067_00_M3C2inc_all.txt', 'C:/Users/Benjamin/Desktop/Traitement_Cloud_Compare/PROCESSINGerosion+\\\\REF01\\\\REF01_00_M3C2inc_all.txt', 'C:/Users/Benjamin/Desktop/Traitement_Cloud_Compare/PROCESSINGerosion+\\\\REF02\\\\REF02_00_M3C2inc_all.txt', 'C:/Users/Benjamin/Desktop/Traitement_Cloud_Compare/PROCESSINGerosion+\\\\REF03\\\\REF03_00_M3C2inc_all.txt', 'C:/Users/Benjamin/Desktop/Traitement_Cloud_Compare/PROCESSINGerosion+\\\\SPA1010\\\\SPA1010_00_M3C2inc_all.txt', 'C:/Users/Benjamin/Desktop/Traitement_Cloud_Compare/PROCESSINGerosion+\\\\SPA1020\\\\SPA1020_00_M3C2inc_all.txt', 'C:/Users/Benjamin/Desktop/Traitement_Cloud_Compare/PROCESSINGerosion+\\\\SPA1035\\\\SPA1035_00_M3C2inc_all.txt', 'C:/Users/Benjamin/Desktop/Traitement_Cloud_Compare/PROCESSINGerosion+\\\\SR01\\\\SR01_00_M3C2inc_all.txt', 'C:/Users/Benjamin/Desktop/Traitement_Cloud_Compare/PROCESSINGerosion+\\\\SR02\\\\SR02_00_M3C2inc_all.txt', 'C:/Users/Benjamin/Desktop/Traitement_Cloud_Compare/PROCESSINGerosion+\\\\SR03\\\\SR03_00_M3C2inc_all.txt', 'C:/Users/Benjamin/Desktop/Traitement_Cloud_Compare/PROCESSINGerosion+\\\\SR04\\\\SR04_00_M3C2inc_all.txt']\n"
     ]
    }
   ],
   "source": [
    "# Données topographiques (M3C2)\n",
    "DATAfiles = []\n",
    "path = '**/*.txt'\n",
    "for item in glob.glob(f\"{dir_}/*/*inc_all.txt\"): # Recherche des fichiers contenant 'inc_all.txt' dans les sous dossiers de dir_\n",
    "    #print(item)\n",
    "    DATAfiles.append(item)\n",
    "print(DATAfiles)\n",
    "\n",
    "# Données de Temps \n"
   ]
  },
  {
   "cell_type": "markdown",
   "id": "e65eb859",
   "metadata": {},
   "source": [
    "Calculs sur les données\n",
    " - Moyenne "
   ]
  },
  {
   "cell_type": "code",
   "execution_count": null,
   "id": "7737245c",
   "metadata": {},
   "outputs": [],
   "source": []
  }
 ],
 "metadata": {
  "kernelspec": {
   "display_name": "Python 3 (ipykernel)",
   "language": "python",
   "name": "python3"
  },
  "language_info": {
   "codemirror_mode": {
    "name": "ipython",
    "version": 3
   },
   "file_extension": ".py",
   "mimetype": "text/x-python",
   "name": "python",
   "nbconvert_exporter": "python",
   "pygments_lexer": "ipython3",
   "version": "3.9.16"
  }
 },
 "nbformat": 4,
 "nbformat_minor": 5
}
